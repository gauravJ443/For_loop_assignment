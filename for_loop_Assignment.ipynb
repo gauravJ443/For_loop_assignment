{
 "cells": [
  {
   "cell_type": "code",
   "execution_count": 1,
   "id": "e6af41aa",
   "metadata": {},
   "outputs": [
    {
     "name": "stdout",
     "output_type": "stream",
     "text": [
      "1\n",
      "2\n",
      "3\n",
      "4\n",
      "5\n",
      "6\n",
      "7\n",
      "8\n",
      "9\n",
      "10\n"
     ]
    }
   ],
   "source": [
    "#Write a Python program to print the numbers from 1 to 10 using a `for` loop.\n",
    "for i in range (1,11):\n",
    "    print(i)"
   ]
  },
  {
   "cell_type": "code",
   "execution_count": 3,
   "id": "76e8c1b9",
   "metadata": {},
   "outputs": [
    {
     "name": "stdout",
     "output_type": "stream",
     "text": [
      "The Sum of List is: 21 \n"
     ]
    }
   ],
   "source": [
    "#Create a program that calculates the sum of all numbers in a list using a `for` loop.\n",
    "list_num = [1,2,3,4,5,6]\n",
    "sum = 0\n",
    "\n",
    "for i in list_num:\n",
    "    sum += i\n",
    "    \n",
    "print(f\"The Sum of List is: {sum} \")"
   ]
  },
  {
   "cell_type": "code",
   "execution_count": 7,
   "id": "8d1b1b9b",
   "metadata": {},
   "outputs": [
    {
     "name": "stdout",
     "output_type": "stream",
     "text": [
      "woH\n"
     ]
    }
   ],
   "source": [
    "#Write a program to print the characters of a string in reverse order using a `for` loop.\n",
    "def string_name(input_string):\n",
    "    rev_str = \"\"\n",
    "    for char in input_string:\n",
    "        rev_str = char + rev_str\n",
    "    return rev_str\n",
    "    \n",
    "input_string = \"How\"\n",
    "rev_str = string_name(input_string)\n",
    "print(rev_str)"
   ]
  },
  {
   "cell_type": "code",
   "execution_count": 9,
   "id": "b6a29f60",
   "metadata": {},
   "outputs": [
    {
     "name": "stdout",
     "output_type": "stream",
     "text": [
      "Enter The number : 5\n",
      "Factorial of given number 5 is 120\n"
     ]
    }
   ],
   "source": [
    "#Develop a program that finds the factorial of a given number using a for loop\n",
    "n= int(input(\"Enter The number : \"))\n",
    "factorial = 1\n",
    "if n>=1:\n",
    "    for i in range(1 , n+1):\n",
    "        factorial = factorial * i\n",
    "print(f\"Factorial of given number {n} is {factorial}\")"
   ]
  },
  {
   "cell_type": "code",
   "execution_count": 1,
   "id": "9173388c",
   "metadata": {},
   "outputs": [
    {
     "name": "stdout",
     "output_type": "stream",
     "text": [
      "Enter a num : 5\n",
      "5 X 10 = 50\n"
     ]
    }
   ],
   "source": [
    "#Create a program to print the multiplication table of a given number using a `for` loop.\n",
    "n = int(input(\"Enter a num : \"))\n",
    "for i in range(1,11):\n",
    "    j=i*n\n",
    "    print(f\"{n} X {i} = {j}\")"
   ]
  },
  {
   "cell_type": "code",
   "execution_count": 22,
   "id": "0d5f1b9f",
   "metadata": {},
   "outputs": [
    {
     "name": "stdout",
     "output_type": "stream",
     "text": [
      "The Count of Even Number is: 7\n",
      "The Count of Even Number is: 3\n"
     ]
    }
   ],
   "source": [
    "#Write a program that counts the number of even and odd numbers in a list using a `for` loop\n",
    "num_list = [2,3,4,5,6,8,9,10,12,14]\n",
    "even_num = 0\n",
    "odd_num = 0\n",
    "for i in num_list:\n",
    "    if i%2 == 0:\n",
    "        even_num += 1\n",
    "    else:\n",
    "        odd_num +=1\n",
    "print(f\"The Count of Even Number is: {even_num}\")\n",
    "print(f\"The Count of Even Number is: {odd_num}\")\n",
    "        \n",
    "    "
   ]
  },
  {
   "cell_type": "code",
   "execution_count": 23,
   "id": "6cbf675c",
   "metadata": {},
   "outputs": [
    {
     "name": "stdout",
     "output_type": "stream",
     "text": [
      "The Squares of 1 is 1\n",
      "The Squares of 2 is 4\n",
      "The Squares of 3 is 9\n",
      "The Squares of 4 is 16\n",
      "The Squares of 5 is 25\n"
     ]
    }
   ],
   "source": [
    "#Develop a program that prints the squares of numbers from 1 to 5 using a `for` loop.\n",
    "for i in range(1,6):\n",
    "    j = i**2\n",
    "    print(f\"The Squares of {i} is {j}\")"
   ]
  },
  {
   "cell_type": "code",
   "execution_count": 26,
   "id": "2cc11320",
   "metadata": {},
   "outputs": [
    {
     "name": "stdout",
     "output_type": "stream",
     "text": [
      "Enter a String: hello\n",
      "5\n"
     ]
    }
   ],
   "source": [
    "#Create a program to find the length of a string without using the `len()` function\n",
    "n = str(input(\"Enter a String: \"))\n",
    "length_str = 0 \n",
    "for i in n:\n",
    "    length_str +=1\n",
    "print(length_str)"
   ]
  },
  {
   "cell_type": "code",
   "execution_count": 12,
   "id": "f5949306",
   "metadata": {},
   "outputs": [
    {
     "name": "stdout",
     "output_type": "stream",
     "text": [
      "Enter the number of elements to be inserted: 3\n",
      "Enter Element: 1\n",
      "Enter Element: 2\n",
      "Enter Element: 3\n",
      "Average of elements in the list 2.0\n"
     ]
    }
   ],
   "source": [
    "# Write a program that calculates the average of a list of numbers using a `for` loop\n",
    "n = int(input(\"Enter the number of elements to be inserted: \"))\n",
    "a = []\n",
    "for i in range (0,n):\n",
    "    elem = int(input(\"Enter Element: \"))\n",
    "    a.append(elem)\n",
    "avg=sum(a)/n\n",
    "print(\"Average of elements in the list\",round(avg,2))"
   ]
  },
  {
   "cell_type": "code",
   "execution_count": 15,
   "id": "7ca7809a",
   "metadata": {},
   "outputs": [
    {
     "name": "stdout",
     "output_type": "stream",
     "text": [
      "3.6\n"
     ]
    }
   ],
   "source": [
    "#Write a program that calculates the average of a list of numbers for fixed list \n",
    "avg_list = [1,2,4,6,5]\n",
    "len_avg = len(avg_list)\n",
    "sum = 0\n",
    "for i in avg_list:\n",
    "    sum += i\n",
    "avg= sum/len_avg\n",
    "print(avg)"
   ]
  },
  {
   "cell_type": "code",
   "execution_count": 17,
   "id": "83af5875",
   "metadata": {},
   "outputs": [
    {
     "name": "stdout",
     "output_type": "stream",
     "text": [
      "[0, 1, 1, 2, 3]\n"
     ]
    }
   ],
   "source": [
    "#Develop a program that prints the first `n` Fibonacci numbers using a `for` loop.\n",
    "def fibo(n):\n",
    "    if n==0:\n",
    "        return 0\n",
    "    elif n ==1:\n",
    "        return 1\n",
    "    else:\n",
    "        return fibo(n-1) + fibo(n-2)\n",
    "    \n",
    "fibo_list = []\n",
    "n=5\n",
    "for i in range (n):\n",
    "    fibo_list.append(fibo(i))\n",
    "print(fibo_list)\n",
    "    "
   ]
  },
  {
   "cell_type": "code",
   "execution_count": 18,
   "id": "b1a9ba2d",
   "metadata": {},
   "outputs": [
    {
     "name": "stdout",
     "output_type": "stream",
     "text": [
      "Duplicate integeres:  [10, 30, -10, -20]\n"
     ]
    }
   ],
   "source": [
    "#Write a program to check if a given list contains any duplicates using a `for` loop.\n",
    "\n",
    "def duplicate(li):\n",
    "    n = len(li)\n",
    "    dup= []\n",
    "    for i in range (n):\n",
    "        k = i+1\n",
    "        for j in range(k,n):\n",
    "            if li[i]==li[j] and li[i] not in dup:\n",
    "                dup.append(li[i])\n",
    "    return dup\n",
    "\n",
    "#test\n",
    "li=[ 10, 20, 30, -10, -20, 10, 80, -10, -20, 30]\n",
    "print(\"Duplicate integeres: \",duplicate(li))"
   ]
  },
  {
   "cell_type": "code",
   "execution_count": 19,
   "id": "da2c1fc6",
   "metadata": {},
   "outputs": [
    {
     "name": "stdout",
     "output_type": "stream",
     "text": [
      "[2, 3, 5, 7, 11, 13]\n"
     ]
    }
   ],
   "source": [
    "#Create a program that prints the prime numbers in a given range using a `for` loop\n",
    "\n",
    "low,high = 2,15\n",
    "primes = []\n",
    "for i in range(low,high+1):\n",
    "    flag=0\n",
    "    \n",
    "    if i <2:\n",
    "        continue\n",
    "    if i ==2:\n",
    "        primes.append(2)\n",
    "        continue\n",
    "        \n",
    "    for x in range (2,i):\n",
    "        if i%x ==0:\n",
    "            flag = 1\n",
    "            break\n",
    "    if flag == 0:\n",
    "        primes.append(i)\n",
    "print(primes)\n",
    "            "
   ]
  },
  {
   "cell_type": "code",
   "execution_count": 28,
   "id": "3cffab42",
   "metadata": {},
   "outputs": [
    {
     "name": "stdout",
     "output_type": "stream",
     "text": [
      "[29, 31, 37, 41, 43, 47]\n"
     ]
    }
   ],
   "source": [
    "#second way\n",
    "start,end = 25,50\n",
    "primes = []\n",
    "for num in range(start,end+1):\n",
    "    if num>1:\n",
    "        for i in range(2,num):\n",
    "            print(i)\n",
    "            if (num % i) == 0:\n",
    "                break\n",
    "        else:\n",
    "            primes.append(num)\n",
    "print(primes)\n",
    "        "
   ]
  },
  {
   "cell_type": "code",
   "execution_count": 32,
   "id": "aab896c8",
   "metadata": {},
   "outputs": [
    {
     "name": "stdout",
     "output_type": "stream",
     "text": [
      "Write a sentence: Hello\n",
      "The Count is: 2\n"
     ]
    }
   ],
   "source": [
    "#Develop a program that counts the number of vowels in a string using a `for` loop\n",
    "def count_vowel(v):\n",
    "    vowel_count = 0\n",
    "    vowels = 'aeiouAEIOU'\n",
    "    for char in v:\n",
    "        if char in vowels:\n",
    "            vowel_count +=1\n",
    "    return vowel_count\n",
    "v = input(\"Write a sentence: \")\n",
    "result = count_vowel(v)\n",
    "print(f\"The Count is: {result}\")"
   ]
  },
  {
   "cell_type": "code",
   "execution_count": 45,
   "id": "336ab451",
   "metadata": {},
   "outputs": [
    {
     "name": "stdout",
     "output_type": "stream",
     "text": [
      "20\n"
     ]
    }
   ],
   "source": [
    "#Write a program to find the maximum element in a 2D list using a nested `for` loop.\n",
    "my_list = [20,4,6,[5,10,3]]\n",
    "print(max(max(x) if isinstance(x, list) else x for x in my_list))\n"
   ]
  },
  {
   "cell_type": "code",
   "execution_count": 3,
   "id": "d83495d8",
   "metadata": {},
   "outputs": [
    {
     "name": "stdout",
     "output_type": "stream",
     "text": [
      "The Original_list: [10, 20, 10, 30, 10, 40, 10, 50]\n",
      "Element needs to be removed: 10\n",
      "The list after removing the element is: [20, 30, 40, 50]\n"
     ]
    }
   ],
   "source": [
    "#Create a program that removes all occurrences of a specific element from a list using a `for` loop.\n",
    "# list with integer elements\n",
    "list = [10, 20, 10, 30, 10, 40, 10, 50]\n",
    "#number to be removed\n",
    "n=10\n",
    "\n",
    "print(f\"The Original_list: {list}\")\n",
    "print(f\"Element needs to be removed: {n}\")\n",
    "\n",
    "for x in list:\n",
    "    if x == n:\n",
    "        list.remove(x)\n",
    "        \n",
    "print(f\"The list after removing the element is: {list}\")"
   ]
  },
  {
   "cell_type": "code",
   "execution_count": 7,
   "id": "ec20f402",
   "metadata": {},
   "outputs": [
    {
     "name": "stdout",
     "output_type": "stream",
     "text": [
      "1 tables\n",
      "1 X 1 = 1\n",
      "1 X 2 = 2\n",
      "1 X 3 = 3\n",
      "1 X 4 = 4\n",
      "1 X 5 = 5\n",
      "1 X 6 = 6\n",
      "1 X 7 = 7\n",
      "1 X 8 = 8\n",
      "1 X 9 = 9\n",
      "1 X 10 = 10\n",
      "\n",
      "2 tables\n",
      "2 X 1 = 2\n",
      "2 X 2 = 4\n",
      "2 X 3 = 6\n",
      "2 X 4 = 8\n",
      "2 X 5 = 10\n",
      "2 X 6 = 12\n",
      "2 X 7 = 14\n",
      "2 X 8 = 16\n",
      "2 X 9 = 18\n",
      "2 X 10 = 20\n",
      "\n",
      "3 tables\n",
      "3 X 1 = 3\n",
      "3 X 2 = 6\n",
      "3 X 3 = 9\n",
      "3 X 4 = 12\n",
      "3 X 5 = 15\n",
      "3 X 6 = 18\n",
      "3 X 7 = 21\n",
      "3 X 8 = 24\n",
      "3 X 9 = 27\n",
      "3 X 10 = 30\n",
      "\n",
      "4 tables\n",
      "4 X 1 = 4\n",
      "4 X 2 = 8\n",
      "4 X 3 = 12\n",
      "4 X 4 = 16\n",
      "4 X 5 = 20\n",
      "4 X 6 = 24\n",
      "4 X 7 = 28\n",
      "4 X 8 = 32\n",
      "4 X 9 = 36\n",
      "4 X 10 = 40\n",
      "\n",
      "5 tables\n",
      "5 X 1 = 5\n",
      "5 X 2 = 10\n",
      "5 X 3 = 15\n",
      "5 X 4 = 20\n",
      "5 X 5 = 25\n",
      "5 X 6 = 30\n",
      "5 X 7 = 35\n",
      "5 X 8 = 40\n",
      "5 X 9 = 45\n",
      "5 X 10 = 50\n",
      "\n"
     ]
    }
   ],
   "source": [
    "# Develop a program that generates a multiplication table for numbers from 1 to 5 using a nested `for` loop.\n",
    "for i in range(1,6):\n",
    "    print(i, 'tables')\n",
    "    for b in range (1,11):\n",
    "        c = i*b\n",
    "        print(i,'X',b,'=',c)\n",
    "    print()"
   ]
  },
  {
   "cell_type": "code",
   "execution_count": 18,
   "id": "74b7596f",
   "metadata": {},
   "outputs": [
    {
     "name": "stdout",
     "output_type": "stream",
     "text": [
      "[0.0, 6.666666666666667, 14.444444444444445, 15.555555555555555]\n"
     ]
    }
   ],
   "source": [
    "# Write a program that converts a list of Fahrenheit temperatures to Celsius using a `for` loop.\n",
    "fahrenheit_list = [32,44,58,60]\n",
    "\n",
    "cel_list = []\n",
    "\n",
    "for fah_list in fahrenheit_list:\n",
    "    x = ((fah_list-32)* 5/9)\n",
    "    cel_list.append(x)\n",
    "print(cel_list)"
   ]
  },
  {
   "cell_type": "code",
   "execution_count": 28,
   "id": "de1bfba8",
   "metadata": {},
   "outputs": [
    {
     "name": "stdout",
     "output_type": "stream",
     "text": [
      "['you']\n"
     ]
    }
   ],
   "source": [
    "# Create a program to print the common elements from two lists using a `for` loop.\n",
    "#for string\n",
    "def common_ele(list1,list2):\n",
    "#     set1 = set(list1)\n",
    "#     set2 = set(list2)\n",
    "    common_elements = [x for x in list1 if x in list2]\n",
    "    return common_elements\n",
    "\n",
    "list1 = [\"hi\",\"you\",\"got\"]\n",
    "list2 = [\"you\",\"have\",\"won\",\"there\"]\n",
    "\n",
    "common_elements = common_ele(list1,list2)\n",
    "print(common_elements)"
   ]
  },
  {
   "cell_type": "code",
   "execution_count": 29,
   "id": "01f6e1f3",
   "metadata": {},
   "outputs": [
    {
     "name": "stdout",
     "output_type": "stream",
     "text": [
      "[8]\n"
     ]
    }
   ],
   "source": [
    "# Create a program to print the common elements from two lists using a `for` loop.\n",
    "\n",
    "list1 = [1,4,7,8,9]\n",
    "list2=[2,5,6,8]\n",
    "\n",
    "set1 = set(list1)\n",
    "set2 = set(list2)\n",
    "\n",
    "common_ele = [element for element in set1 if element in set2]\n",
    "print(common_ele)\n"
   ]
  },
  {
   "cell_type": "code",
   "execution_count": 31,
   "id": "184e737d",
   "metadata": {},
   "outputs": [
    {
     "name": "stdout",
     "output_type": "stream",
     "text": [
      "Enter the number of rows to be added : 5\n",
      "The Right Angle Triangle star pattern\n",
      "* \n",
      "* * \n",
      "* * * \n",
      "* * * * \n",
      "* * * * * \n"
     ]
    }
   ],
   "source": [
    "# Develop a program that prints the pattern of right-angled triangles using a `for` loop. Use ‘*’ to draw the pattern\n",
    "rows = int(input(\"Enter the number of rows to be added : \"))\n",
    "print(\"The Right Angle Triangle star pattern\")\n",
    "\n",
    "for i in range(1,rows+1):\n",
    "    for j in range(1, i+1):\n",
    "        print('*',end=\" \")\n",
    "    print()"
   ]
  },
  {
   "cell_type": "code",
   "execution_count": 1,
   "id": "06bd4fb2",
   "metadata": {},
   "outputs": [
    {
     "name": "stdout",
     "output_type": "stream",
     "text": [
      "[3, 7, 11, 15, 9]\n"
     ]
    }
   ],
   "source": [
    "#  Write a program to find the greatest common divisor (GCD) of two numbers using a `for` loop.\n",
    "# Create a program that calculates the sum of the digits of numbers in a list using a list comprehension.\n",
    "numlist = [12,34,56,78,90]\n",
    "\n",
    "res = [sum(map(int, str(x))) for x in numlist]\n",
    "\n",
    "print(res)"
   ]
  },
  {
   "cell_type": "code",
   "execution_count": 3,
   "id": "a09198ef",
   "metadata": {},
   "outputs": [
    {
     "name": "stdout",
     "output_type": "stream",
     "text": [
      "2 3 5\n"
     ]
    }
   ],
   "source": [
    "#  Write a program to find the prime factors of a given number using a `for` loop and list comprehension.\n",
    "\n",
    "prime_factors = lambda n: [i for i in range(2, n+1) if n%i == 0 and all(i % j != 0 for j in range(2, int(i**0.5)+1))]\n",
    "n = 30\n",
    "factors = []\n",
    "while n > 1:\n",
    "    for factor in prime_factors(n):\n",
    "        factors.append(factor)\n",
    "        n //= factor\n",
    "print(*factors)\n"
   ]
  },
  {
   "cell_type": "code",
   "execution_count": 4,
   "id": "551114f0",
   "metadata": {},
   "outputs": [
    {
     "name": "stdout",
     "output_type": "stream",
     "text": [
      "['Guj', 'Mah', 'Punj', 'MP', 'Raj']\n"
     ]
    }
   ],
   "source": [
    "# Develop a program that extracts unique elements from a list and stores them in a new list using a list comprehension.\n",
    "states = [\"Guj\",\"Mah\",\"Punj\",\"MP\",\"Mah\",\"Raj\",\"Guj\"]\n",
    "unique_states = []\n",
    "[unique_states.append(state) for state in states if state not in unique_states]\n",
    "print(unique_states)"
   ]
  },
  {
   "cell_type": "code",
   "execution_count": 5,
   "id": "d4ebfb51",
   "metadata": {},
   "outputs": [
    {
     "name": "stdout",
     "output_type": "stream",
     "text": [
      "The palindromes in the list are: ['racecar', 'madam', 'civic']\n"
     ]
    }
   ],
   "source": [
    "# Create a program that generates a list of all palindromic numbers up to a specified limit using a list comprehension\n",
    "\n",
    "def is_palindrome(word):\n",
    "\n",
    "    return word == word[::-1]\n",
    "\n",
    "\n",
    "\n",
    "palindromes = [word for word in [\"racecar\", \"madam\", \"civic\",\"blink\"] if is_palindrome(word)]\n",
    "\n",
    "print(\"The palindromes in the list are:\", palindromes)"
   ]
  },
  {
   "cell_type": "code",
   "execution_count": 18,
   "id": "3318b06d",
   "metadata": {},
   "outputs": [
    {
     "name": "stdout",
     "output_type": "stream",
     "text": [
      "['racecar', 'madam', 'civic']\n"
     ]
    }
   ],
   "source": [
    "words = [\"racecar\", \"madam\", \"civic\",\"blink\"]\n",
    "wordly = []\n",
    "for word in words:\n",
    "    if word == word[::-1]:\n",
    "        wordly.append(word)\n",
    "print(wordly)"
   ]
  },
  {
   "cell_type": "code",
   "execution_count": 24,
   "id": "a71d61ca",
   "metadata": {},
   "outputs": [
    {
     "name": "stdout",
     "output_type": "stream",
     "text": [
      "[1, 2, 3, 4, 5, 6, 8, 8, 9]\n"
     ]
    }
   ],
   "source": [
    "# Write a program to flatten a nested list using list comprehension.\n",
    "\n",
    "l = [[1,2,3],[4,5,6],[8,8,9]]\n",
    "flattened_l = []\n",
    "for sublist in l:\n",
    "    for item in sublist:\n",
    "        flattened_l.append(item)\n",
    "print(flattened_l)"
   ]
  },
  {
   "cell_type": "code",
   "execution_count": 26,
   "id": "f48b0691",
   "metadata": {},
   "outputs": [
    {
     "name": "stdout",
     "output_type": "stream",
     "text": [
      "The even sum is : [82]\n",
      "The odd sum is : [89]\n"
     ]
    }
   ],
   "source": [
    "# Develop a program that computes the sum of even and odd numbers in a list separately using list comprehension.\n",
    "\n",
    "list1 = [1, 2, 3, 4, 5, 6, 7, 8, 9, 10,20,31,33,32]\n",
    "even_sum = [sum(x for x in list1 if x%2==0)]\n",
    "odd_sum = [sum(x for x in list1 if x%2 != 0)]\n",
    "print(f\"The even sum is : {even_sum}\")\n",
    "print(f\"The odd sum is : {odd_sum}\")"
   ]
  },
  {
   "cell_type": "code",
   "execution_count": 28,
   "id": "68e48bd6",
   "metadata": {},
   "outputs": [
    {
     "name": "stdout",
     "output_type": "stream",
     "text": [
      "[1, 9, 25, 49, 81]\n"
     ]
    }
   ],
   "source": [
    "#Create a program that generates a list of squares of odd numbers between 1 and 10 using list comprehension\n",
    "list1 = [1, 2, 3, 4, 5, 6, 7, 8, 9, 10]\n",
    "odd_num = []\n",
    "[odd_num.append(x**2) for x in list1 if x%2!=0]\n",
    "print(odd_num)"
   ]
  },
  {
   "cell_type": "code",
   "execution_count": 29,
   "id": "1fb6fba2",
   "metadata": {},
   "outputs": [
    {
     "name": "stdout",
     "output_type": "stream",
     "text": [
      "{'Rahul': 1, 'Raj': 2, 'varun': 3}\n"
     ]
    }
   ],
   "source": [
    "# Write a program that combines two lists into a dictionary using list comprehension\n",
    "list1 = ['Rahul','Raj','varun']\n",
    "list2 = [1,2,3]\n",
    "dict1 = {x:y for (x,y) in zip(list1,list2)}\n",
    "print(dict1)"
   ]
  },
  {
   "cell_type": "code",
   "execution_count": 31,
   "id": "0586334d",
   "metadata": {},
   "outputs": [
    {
     "name": "stdout",
     "output_type": "stream",
     "text": [
      "The Vowels in a string is ['e', 'o', 'o', 'U']\n"
     ]
    }
   ],
   "source": [
    "# Develop a program that extracts the vowels from a string and stores them in a list using list comprehension\n",
    "vowels = 'aeiouAEIOU'\n",
    "def extract_vowels(string):\n",
    "    return[char for char in string if char in vowels]\n",
    "\n",
    "string = \"Hello yoU\"\n",
    "extracted_vowels = extract_vowels(string)\n",
    "\n",
    "print(f\"The Vowels in a string is {extracted_vowels}\")"
   ]
  },
  {
   "cell_type": "code",
   "execution_count": 32,
   "id": "51f48336",
   "metadata": {},
   "outputs": [
    {
     "name": "stdout",
     "output_type": "stream",
     "text": [
      "['123', '456', '789']\n"
     ]
    }
   ],
   "source": [
    "# Create a program that removes all non-numeric characters from a list of strings using list comprehension\n",
    "\n",
    "def remove_non_numeric(list_of_strings):\n",
    "    return[''.join(filter(str.isdigit, string)) for string in list_of_strings]\n",
    "\n",
    "list_of_strings = ['123abc', '456def', '789ghi']\n",
    "results = remove_non_numeric(list_of_strings)\n",
    "print(results)"
   ]
  },
  {
   "cell_type": "code",
   "execution_count": 34,
   "id": "fdf3a4e5",
   "metadata": {},
   "outputs": [
    {
     "name": "stdout",
     "output_type": "stream",
     "text": [
      "2\n",
      "3\n",
      "5\n",
      "7\n",
      "11\n",
      "13\n",
      "17\n",
      "19\n",
      "23\n",
      "29\n",
      "31\n",
      "37\n",
      "41\n",
      "43\n",
      "47\n",
      "53\n",
      "59\n",
      "61\n",
      "67\n",
      "71\n",
      "73\n",
      "79\n",
      "83\n",
      "89\n",
      "97\n"
     ]
    }
   ],
   "source": [
    "# Define a function named 'prime_eratosthenes' that generates prime numbers using the Sieve of Eratosthenes algorithm\n",
    "def prime_eratosthenes(n):\n",
    "    prime_list = []  # Create an empty list to store prime numbers\n",
    "    # Iterate through the numbers from 2 to 'n'\n",
    "    for i in range(2, n+1):\n",
    "        if i not in prime_list:\n",
    "            # If 'i' is not in the 'prime_list,' it's a prime number; print it\n",
    "            print(i)\n",
    "\n",
    "            # Mark all multiples of 'i' as non-prime by adding them to 'prime_list'\n",
    "            for j in range(i*i, n+1, i):\n",
    "                prime_list.append(j)\n",
    "\n",
    "# Call the 'prime_eratosthenes' function with 'n' set to 100 to generate prime numbers\n",
    "# The function does not have a return value, so it prints the prime numbers directly\n",
    "prime_eratosthenes(100)"
   ]
  },
  {
   "cell_type": "code",
   "execution_count": 35,
   "id": "867fd040",
   "metadata": {},
   "outputs": [],
   "source": [
    "def prime_eratosthenes(n):\n",
    "    prime_list = []\n",
    "    for i in range(2,n+1):\n",
    "        if i not in prime_list:\n",
    "            print(i)"
   ]
  },
  {
   "cell_type": "code",
   "execution_count": 2,
   "id": "6290ee8f",
   "metadata": {},
   "outputs": [
    {
     "name": "stdout",
     "output_type": "stream",
     "text": [
      "Enter the value of n for the limit set: 10\n",
      "[(3, 4, 5), (8, 6, 10)]\n"
     ]
    }
   ],
   "source": [
    "# Create a program that generates a list of all Pythagorean triplets up to a specified limit using list comprehension.\n",
    "n = int(input(\"Enter the value of n for the limit set: \"))\n",
    "a=0\n",
    "b=0\n",
    "c=0\n",
    "m=2\n",
    "triples = []\n",
    "\n",
    "while c < n:\n",
    "    for i in range(1,m,1):\n",
    "        a = m*m - i*i\n",
    "        b = 2*m*i\n",
    "        c= m*m + i*i\n",
    "        if c > n:\n",
    "            break\n",
    "        triples.append((a,b,c))\n",
    "        \n",
    "    m+=1\n",
    "    \n",
    "print(triples)"
   ]
  },
  {
   "cell_type": "code",
   "execution_count": 3,
   "id": "ec64801c",
   "metadata": {},
   "outputs": [
    {
     "name": "stdout",
     "output_type": "stream",
     "text": [
      "Enter the value of n: 10\n",
      "[(3, 4, 5), (6, 8, 10)]\n"
     ]
    }
   ],
   "source": [
    "n = int(input(\"Enter the value of n: \"))\n",
    "print([(a, b, c) for a in range(1, n + 1) for b in range(a, n + 1)\n",
    "       for c in range(b, n + 1) if a**2 + b**2 == c**2])"
   ]
  },
  {
   "cell_type": "code",
   "execution_count": 6,
   "id": "a37dfb19",
   "metadata": {},
   "outputs": [
    {
     "name": "stdout",
     "output_type": "stream",
     "text": [
      "[('hi', 1), ('hi', 2), ('hi', 4), ('hi', 5), ('wassup', 1), ('wassup', 2), ('wassup', 4), ('wassup', 5)]\n"
     ]
    }
   ],
   "source": [
    "#Develop a program that generates a list of all possible combinations of two lists using list comprehension.\n",
    "a = ['hi', 'wassup']\n",
    "b = [1,2,4,5]\n",
    "\n",
    "print([(x,y) for x in a for y in b ])"
   ]
  },
  {
   "cell_type": "code",
   "execution_count": 8,
   "id": "ad46272c",
   "metadata": {},
   "outputs": [
    {
     "name": "stdout",
     "output_type": "stream",
     "text": [
      "                  \n",
      "                  1  \n",
      "                  1  1  \n",
      "                  1  2  1  \n",
      "                  1  3  3  1  \n",
      "                  1  4  6  4  1  \n",
      "                  1  5  10  10  5  1  \n",
      "                  1  6  15  20  15  6  1  \n",
      "                  1  7  21  35  35  21  7  1  \n",
      "                  1  8  28  56  70  56  28  8  1  \n",
      "                  1  9  36  84  126  126  84  36  9  1  \n"
     ]
    }
   ],
   "source": [
    "#Create a program that generates Pascal's triangle up to a specified number of rows using list comprehension.\n",
    "\n",
    "def solve(n):\n",
    "    for i in range(n+1):\n",
    "        for j in range(n-1):\n",
    "            print('  ', end='')\n",
    "            \n",
    "        c=1\n",
    "        for j in range(1,i+1):\n",
    "            print(c,'  ',sep='',end='')\n",
    "            c= c* (i-j)//j\n",
    "        print()\n",
    "n = 10\n",
    "solve(n)"
   ]
  },
  {
   "cell_type": "code",
   "execution_count": 1,
   "id": "88389730",
   "metadata": {},
   "outputs": [
    {
     "name": "stdout",
     "output_type": "stream",
     "text": [
      "['alanbahdasfvcnjhs']\n"
     ]
    }
   ],
   "source": [
    "#Develop a program that calculates the sum of the digits of a factorial of numbers from 1 to 5 using list comprehension.\n",
    "#Write a program that finds the longest word in a sentence using list comprehension.\n",
    "s= \"alanbahdasfvcnjhs to ffvhsbddfkvjkjn\"\n",
    "longest_word_length =  max(len(word)for word in s.split())\n",
    "longest_word = [word for word in s.split() if len(word)==longest_word_length]\n",
    "\n",
    "print(longest_word)"
   ]
  },
  {
   "cell_type": "code",
   "execution_count": 5,
   "id": "825439d9",
   "metadata": {},
   "outputs": [
    {
     "name": "stdout",
     "output_type": "stream",
     "text": [
      "['pineapple', 'mandarin orange']\n"
     ]
    }
   ],
   "source": [
    "# Create a program that filters a list of strings to include only those with more than three vowels using list comprehension.\n",
    "\n",
    "def vowels_check(word):\n",
    "    vowels = 'aeiouAEIOU'\n",
    "    count = 0\n",
    "    for vowel in vowels:\n",
    "        count += word.count(vowel)\n",
    "        \n",
    "    if count >3 :return True\n",
    "    return False\n",
    "fruits = ['mango', 'kiwi', 'strawberry', 'guava', 'pineapple', 'mandarin orange']\n",
    "fruits_with_more_vowel = [fruit for fruit in fruits if vowels_check(fruit)]\n",
    "print(fruits_with_more_vowel)"
   ]
  },
  {
   "cell_type": "code",
   "execution_count": 7,
   "id": "48879b9b",
   "metadata": {},
   "outputs": [
    {
     "name": "stdout",
     "output_type": "stream",
     "text": [
      "[3, 7, 11, 15, 9, 10]\n"
     ]
    }
   ],
   "source": [
    "#Develop a program that calculates the sum of the digits of numbers from 1 to 1000 using list comprehension.\n",
    "numlist = [12,34,56,78,90,46]\n",
    "res = [sum(map(int,str(x))) for x in numlist]\n",
    "print(res)"
   ]
  },
  {
   "cell_type": "code",
   "execution_count": 9,
   "id": "e17b60b8",
   "metadata": {},
   "outputs": [
    {
     "data": {
      "text/plain": [
       "[2, 3, 4, 5, 7, 11, 13, 17, 19]"
      ]
     },
     "execution_count": 9,
     "metadata": {},
     "output_type": "execute_result"
    }
   ],
   "source": [
    "#Write a program that generates a list of prime palindromic numbers using list comprehension.\n",
    "[x for x in range(2, 20)\n",
    "     if all(x % y for y in range(2, x//2))]\n"
   ]
  },
  {
   "cell_type": "code",
   "execution_count": null,
   "id": "742fe207",
   "metadata": {},
   "outputs": [],
   "source": []
  }
 ],
 "metadata": {
  "kernelspec": {
   "display_name": "Python 3 (ipykernel)",
   "language": "python",
   "name": "python3"
  },
  "language_info": {
   "codemirror_mode": {
    "name": "ipython",
    "version": 3
   },
   "file_extension": ".py",
   "mimetype": "text/x-python",
   "name": "python",
   "nbconvert_exporter": "python",
   "pygments_lexer": "ipython3",
   "version": "3.9.13"
  }
 },
 "nbformat": 4,
 "nbformat_minor": 5
}
